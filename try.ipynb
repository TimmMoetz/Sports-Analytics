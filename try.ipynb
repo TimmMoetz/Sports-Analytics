{
 "cells": [
  {
   "cell_type": "code",
   "execution_count": 1,
   "metadata": {},
   "outputs": [
    {
     "name": "stdout",
     "output_type": "stream",
     "text": [
      "MoviePy - Writing audio in Gehen-6,5.wav\n"
     ]
    },
    {
     "name": "stderr",
     "output_type": "stream",
     "text": [
      "                                                                     "
     ]
    },
    {
     "name": "stdout",
     "output_type": "stream",
     "text": [
      "MoviePy - Done.\n"
     ]
    },
    {
     "name": "stderr",
     "output_type": "stream",
     "text": [
      "\r"
     ]
    }
   ],
   "source": [
    "import tkinter as tk\n",
    "from tkinter import filedialog\n",
    "import numpy as np\n",
    "import moviepy.editor as mp\n",
    "from pydub import AudioSegment\n",
    "import wave\n",
    "\n",
    "root = tk.Tk()\n",
    "root.withdraw()\n",
    "file_path = filedialog.askopenfilename()\n",
    "if file_path==():\n",
    "    exit()\n",
    "\n",
    "#write audiofile\n",
    "clip = mp.VideoFileClip(file_path)\n",
    "clip.audio.write_audiofile(\"Gehen-6,5.wav\")\n"
   ]
  },
  {
   "cell_type": "code",
   "execution_count": 10,
   "metadata": {},
   "outputs": [],
   "source": [
    "\n",
    "import tkinter as tk\n",
    "from tkinter import filedialog\n",
    "import numpy as np\n",
    "import moviepy.editor as mp\n",
    "from pydub import AudioSegment\n",
    "import wave\n",
    "#mp3 to wav\n",
    "#AudioSegment.from_mp3(\"Gehen-6,5.mp3\").export(\"Gehen-6,5.wav\", format=\"wav\")\n",
    "\n",
    "#wav loudest point\n",
    "w = wave.open('Gehen-6,5-1.wav')\n",
    "sam = w.readframes(w.getnframes())\n",
    "sam = np.frombuffer(sam, dtype=np.int16)\n",
    "\n",
    "bigpos = np.where( sam > 10000 )\n",
    "bigpos_2 = np.where(np.argmax(sam))"
   ]
  },
  {
   "cell_type": "code",
   "execution_count": 11,
   "metadata": {},
   "outputs": [
    {
     "name": "stdout",
     "output_type": "stream",
     "text": [
      "(array([0]),)\n",
      "(array([158570, 158572, 158574, 158577, 158579, 158586, 158598, 158603,\n",
      "       158605, 158617, 158619, 158621, 158735, 158737, 158739, 158741,\n",
      "       158743, 158745, 158747, 158748, 158749, 158750, 158751, 158752,\n",
      "       158753, 158754, 158755, 158756, 158757, 158758, 158759, 158760,\n",
      "       158761, 158762, 158764, 158774, 158776, 158781, 158826, 158845,\n",
      "       158857, 158859, 158861, 158959, 158961, 158962, 158963, 158964,\n",
      "       158965, 158966, 158967, 158968, 158969, 158970, 158971, 158972,\n",
      "       158973, 158975, 158982, 158984, 158986, 158988, 159136, 159210]),)\n"
     ]
    }
   ],
   "source": [
    "print(bigpos_2)\n",
    "print(bigpos)"
   ]
  },
  {
   "cell_type": "code",
   "execution_count": 6,
   "metadata": {},
   "outputs": [
    {
     "name": "stdout",
     "output_type": "stream",
     "text": [
      "-33.071804503246184\n"
     ]
    }
   ],
   "source": [
    "import soundfile as sf\n",
    "import pyloudnorm as pyln\n",
    "\n",
    "data, rate = sf.read(\"Gehen-6,5.wav\")\n",
    "meter = pyln.Meter(rate) #\n",
    "loudness = meter.integrated_loudness(data)\n",
    "print(loudness)"
   ]
  },
  {
   "cell_type": "code",
   "execution_count": 2,
   "metadata": {},
   "outputs": [],
   "source": []
  },
  {
   "cell_type": "code",
   "execution_count": 8,
   "metadata": {},
   "outputs": [
    {
     "name": "stdout",
     "output_type": "stream",
     "text": [
      "MoviePy - Writing audio in Gehen-6,5-1.wav\n"
     ]
    },
    {
     "name": "stderr",
     "output_type": "stream",
     "text": [
      "                                                                      \r"
     ]
    },
    {
     "name": "stdout",
     "output_type": "stream",
     "text": [
      "MoviePy - Done.\n"
     ]
    }
   ],
   "source": [
    "import cv2\n",
    "import tkinter as tk\n",
    "from tkinter import filedialog\n",
    "import numpy as np\n",
    "import moviepy.editor as mp\n",
    "from pydub import AudioSegment\n",
    "import wave\n",
    "import numpy as np\n",
    "\n",
    "root = tk.Tk()\n",
    "root.withdraw()\n",
    "file_path = filedialog.askopenfilename()\n",
    "if file_path==():\n",
    "    exit()\n",
    "\n",
    "#write audiofile\n",
    "clip = mp.VideoFileClip(file_path)\n",
    "clip.audio.write_audiofile(\"Gehen-6,5-1.wav\")\n",
    "\n",
    "#mp3 to wav\n",
    "#AudioSegment.from_mp3(\"Gehen-6,5_1.mp3\").export(\"Gehen-6,5_1.wav\", format=\"wav\")\n",
    "\n",
    "#wav loudest point\n",
    "w = wave.open('Gehen-6,5-1.wav')\n",
    "sam = w.readframes(w.getnframes())\n",
    "sam = np.frombuffer(sam, dtype=np.int16)\n",
    "\n",
    "bigpos = np.argmax(sam)\n",
    "\n",
    "# import soundfile as sf\n",
    "# import pyloudnorm as pyln\n",
    "\n",
    "# data, rate = sf.read(\"file.wav\")\n",
    "# meter = pyln.Meter(rate) #\n",
    "# loudness = meter.integrated_loudness(data)\n",
    "# print(loudness)"
   ]
  },
  {
   "cell_type": "code",
   "execution_count": 13,
   "metadata": {},
   "outputs": [],
   "source": [
    "bigpos = np.argmax(sam)"
   ]
  },
  {
   "cell_type": "code",
   "execution_count": 17,
   "metadata": {},
   "outputs": [
    {
     "data": {
      "text/plain": [
       "array([  524,   512,   898, ..., -1330, -1627, -1279], dtype=int16)"
      ]
     },
     "execution_count": 17,
     "metadata": {},
     "output_type": "execute_result"
    }
   ],
   "source": [
    "sam"
   ]
  },
  {
   "cell_type": "code",
   "execution_count": 14,
   "metadata": {},
   "outputs": [
    {
     "name": "stdout",
     "output_type": "stream",
     "text": [
      "158603\n"
     ]
    }
   ],
   "source": [
    "print(bigpos)"
   ]
  },
  {
   "cell_type": "code",
   "execution_count": 10,
   "metadata": {},
   "outputs": [
    {
     "name": "stdout",
     "output_type": "stream",
     "text": [
      "-34.47555740501685\n"
     ]
    }
   ],
   "source": [
    "import soundfile as sf\n",
    "import pyloudnorm as pyln\n",
    "\n",
    "data, rate = sf.read(\"file_1.wav\")\n",
    "meter = pyln.Meter(rate) #\n",
    "loudness = meter.integrated_loudness(data)\n",
    "print(loudness)"
   ]
  },
  {
   "cell_type": "code",
   "execution_count": 12,
   "metadata": {},
   "outputs": [
    {
     "ename": "ModuleNotFoundError",
     "evalue": "No module named 'scipy.wavfile'",
     "output_type": "error",
     "traceback": [
      "\u001b[0;31m---------------------------------------------------------------------------\u001b[0m",
      "\u001b[0;31mModuleNotFoundError\u001b[0m                       Traceback (most recent call last)",
      "\u001b[1;32m/Users/Kim/Library/Mobile Documents/com~apple~CloudDocs/UNI/HdM/Semester6/SportsAnalytics/Task2/try.ipynb Cell 11'\u001b[0m in \u001b[0;36m<cell line: 3>\u001b[0;34m()\u001b[0m\n\u001b[1;32m      <a href='vscode-notebook-cell:/Users/Kim/Library/Mobile%20Documents/com~apple~CloudDocs/UNI/HdM/Semester6/SportsAnalytics/Task2/try.ipynb#ch0000010?line=0'>1</a>\u001b[0m \u001b[39mimport\u001b[39;00m \u001b[39mnumpy\u001b[39;00m \u001b[39mas\u001b[39;00m \u001b[39mnp\u001b[39;00m\n\u001b[1;32m      <a href='vscode-notebook-cell:/Users/Kim/Library/Mobile%20Documents/com~apple~CloudDocs/UNI/HdM/Semester6/SportsAnalytics/Task2/try.ipynb#ch0000010?line=1'>2</a>\u001b[0m \u001b[39mimport\u001b[39;00m \u001b[39mmatplotlib\u001b[39;00m\u001b[39m.\u001b[39;00m\u001b[39mpyplot\u001b[39;00m \u001b[39mas\u001b[39;00m \u001b[39mplt\u001b[39;00m\n\u001b[0;32m----> <a href='vscode-notebook-cell:/Users/Kim/Library/Mobile%20Documents/com~apple~CloudDocs/UNI/HdM/Semester6/SportsAnalytics/Task2/try.ipynb#ch0000010?line=2'>3</a>\u001b[0m \u001b[39mfrom\u001b[39;00m \u001b[39mscipy\u001b[39;00m\u001b[39m.\u001b[39;00m\u001b[39mwavfile\u001b[39;00m \u001b[39mimport\u001b[39;00m read, write\n\u001b[1;32m      <a href='vscode-notebook-cell:/Users/Kim/Library/Mobile%20Documents/com~apple~CloudDocs/UNI/HdM/Semester6/SportsAnalytics/Task2/try.ipynb#ch0000010?line=3'>4</a>\u001b[0m \u001b[39mfrom\u001b[39;00m \u001b[39mIPython\u001b[39;00m\u001b[39m.\u001b[39;00m\u001b[39mdisplay\u001b[39;00m \u001b[39mimport\u001b[39;00m Audio\n\u001b[1;32m      <a href='vscode-notebook-cell:/Users/Kim/Library/Mobile%20Documents/com~apple~CloudDocs/UNI/HdM/Semester6/SportsAnalytics/Task2/try.ipynb#ch0000010?line=4'>5</a>\u001b[0m \u001b[39mfrom\u001b[39;00m \u001b[39mnumpy\u001b[39;00m\u001b[39m.\u001b[39;00m\u001b[39mfft\u001b[39;00m \u001b[39mimport\u001b[39;00m fft, ifft\n",
      "\u001b[0;31mModuleNotFoundError\u001b[0m: No module named 'scipy.wavfile'"
     ]
    }
   ],
   "source": [
    "import numpy as np\n",
    "import matplotlib.pyplot as plt\n",
    "from scipy.wavfile import read, write\n",
    "from IPython.display import Audio\n",
    "from numpy.fft import fft, ifft\n",
    "%matplotlib inline\n"
   ]
  },
  {
   "cell_type": "code",
   "execution_count": null,
   "metadata": {},
   "outputs": [],
   "source": [
    "Fs, data = read()"
   ]
  }
 ],
 "metadata": {
  "interpreter": {
   "hash": "d0218d208c46997c4d896b4a8729d49815264837c25a09bd399ac461ec8a240f"
  },
  "kernelspec": {
   "display_name": "Python 3.8.13 ('sportsana')",
   "language": "python",
   "name": "python3"
  },
  "language_info": {
   "codemirror_mode": {
    "name": "ipython",
    "version": 3
   },
   "file_extension": ".py",
   "mimetype": "text/x-python",
   "name": "python",
   "nbconvert_exporter": "python",
   "pygments_lexer": "ipython3",
   "version": "3.8.13"
  },
  "orig_nbformat": 4
 },
 "nbformat": 4,
 "nbformat_minor": 2
}
