{
 "cells": [
  {
   "cell_type": "markdown",
   "metadata": {},
   "source": [
    "Import notwendiger Bibliotheken"
   ]
  },
  {
   "cell_type": "code",
   "execution_count": 1,
   "metadata": {},
   "outputs": [],
   "source": [
    "import numpy as np\n",
    "import moviepy.editor as mp\n",
    "from moviepy.editor import *\n",
    "import wave\n",
    "import contextlib"
   ]
  },
  {
   "cell_type": "markdown",
   "metadata": {},
   "source": [
    "Path der zu einem Video führt (Beispiel Path)"
   ]
  },
  {
   "cell_type": "code",
   "execution_count": null,
   "metadata": {},
   "outputs": [],
   "source": [
    "#lokal file path to video\n",
    "file_path = 'Gehen.mov'"
   ]
  },
  {
   "cell_type": "markdown",
   "metadata": {},
   "source": [
    "Audio datei schreiben von Video (Beispiel Path)"
   ]
  },
  {
   "cell_type": "code",
   "execution_count": null,
   "metadata": {},
   "outputs": [],
   "source": [
    "#write audiofile in wav from video\n",
    "clip = mp.VideoFileClip(file_path)\n",
    "clip.audio.write_audiofile('audio/hinten/Gehen.wav')\n"
   ]
  },
  {
   "cell_type": "markdown",
   "metadata": {},
   "source": [
    "Lautesten Punkt bestimmen aus Audio datei (Beispiel Path)"
   ]
  },
  {
   "cell_type": "code",
   "execution_count": null,
   "metadata": {},
   "outputs": [],
   "source": [
    "#get loudest point of video\n",
    "w = wave.open('audio/hinten/Gehen.wav')\n",
    "sam = w.readframes(w.getnframes())\n",
    "sam = np.frombuffer(sam, dtype=np.int16)\n",
    "bigpos = np.argmax(sam)\n"
   ]
  },
  {
   "cell_type": "markdown",
   "metadata": {},
   "source": [
    "Zeitpunkt des lautesten Punkts bestimmen (Beispiel Path)"
   ]
  },
  {
   "cell_type": "code",
   "execution_count": null,
   "metadata": {},
   "outputs": [],
   "source": [
    "#get time of loudest point\n",
    "fname = 'audio/hinten/Gehen.wav'\n",
    "with contextlib.closing(wave.open(fname,'r')) as f:\n",
    "    frames = f.getnframes()\n",
    "    rate = f.getframerate()\n",
    "    loudest_point = bigpos / float(rate)\n"
   ]
  },
  {
   "cell_type": "markdown",
   "metadata": {},
   "source": [
    "Schneiden von neuem Video (Beispiel Path)"
   ]
  },
  {
   "cell_type": "code",
   "execution_count": null,
   "metadata": {},
   "outputs": [],
   "source": [
    "#write new video after loudest ponit \n",
    "clip = VideoFileClip(file_path)\n",
    "clip = clip.resize((1080,1920))\n",
    "clip = clip.subclip(loudest_point, loudest_point+60)\n",
    "clip.write_videofile('video/hinten/Gehen.mp4')"
   ]
  },
  {
   "cell_type": "markdown",
   "metadata": {},
   "source": [
    "Kontroller der Frames und Zeit (Beispiel Path)"
   ]
  },
  {
   "cell_type": "code",
   "execution_count": null,
   "metadata": {},
   "outputs": [],
   "source": [
    "import cv2"
   ]
  },
  {
   "cell_type": "code",
   "execution_count": null,
   "metadata": {},
   "outputs": [],
   "source": [
    "#open video\n",
    "file_path= 'video/hinten/Gehen.mp4'\n",
    "cap = cv2.VideoCapture(file_path)\n",
    "\n",
    "#get frames and time\n",
    "fps = cap.get(cv2.CAP_PROP_FPS)      # OpenCV2 version 2 used \"CV_CAP_PROP_FPS\"\n",
    "frame_count = int(cap.get(cv2.CAP_PROP_FRAME_COUNT))\n",
    "duration = frame_count/fps\n",
    "\n",
    "#print all information\n",
    "print('fps = ' + str(fps))\n",
    "print('number of frames = ' + str(frame_count))\n",
    "print('duration (S) = ' + str(duration))\n",
    "minutes = int(duration/60)\n",
    "seconds = duration%60\n",
    "print('duration (M:S) = ' + str(minutes) + ':' + str(seconds))"
   ]
  }
 ],
 "metadata": {
  "interpreter": {
   "hash": "d0218d208c46997c4d896b4a8729d49815264837c25a09bd399ac461ec8a240f"
  },
  "kernelspec": {
   "display_name": "Python 3.8.13 ('sportsana')",
   "language": "python",
   "name": "python3"
  },
  "language_info": {
   "codemirror_mode": {
    "name": "ipython",
    "version": 3
   },
   "file_extension": ".py",
   "mimetype": "text/x-python",
   "name": "python",
   "nbconvert_exporter": "python",
   "pygments_lexer": "ipython3",
   "version": "3.8.13"
  },
  "orig_nbformat": 4
 },
 "nbformat": 4,
 "nbformat_minor": 2
}
